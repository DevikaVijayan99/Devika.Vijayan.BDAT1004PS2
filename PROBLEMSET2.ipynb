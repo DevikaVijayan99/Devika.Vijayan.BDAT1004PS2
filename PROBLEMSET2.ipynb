{
 "cells": [
  {
   "cell_type": "markdown",
   "id": "c289f7c6",
   "metadata": {},
   "source": [
    "PROBLEM SET 2\n"
   ]
  },
  {
   "cell_type": "code",
   "execution_count": 21,
   "id": "89230d58",
   "metadata": {},
   "outputs": [],
   "source": [
    "#QUESTION 1\n",
    "a = 0 \n",
    "def b():\n",
    "  global a\n",
    "  a = c(a)\n",
    "    \n",
    "def c(a):\n",
    " return a + 2"
   ]
  },
  {
   "cell_type": "code",
   "execution_count": 22,
   "id": "f7cf1f95",
   "metadata": {},
   "outputs": [
    {
     "data": {
      "text/plain": [
       "6"
      ]
     },
     "execution_count": 22,
     "metadata": {},
     "output_type": "execute_result"
    }
   ],
   "source": [
    "b()\n",
    "b()\n",
    "b()\n",
    "a"
   ]
  },
  {
   "cell_type": "code",
   "execution_count": 23,
   "id": "6af521a4",
   "metadata": {},
   "outputs": [],
   "source": [
    "#EXPLANATION\n",
    "#b(): This command invokes the function c(a), which is c(0) and where a has the value 2.\n",
    "#b(): The result of this step demonstrates that c(a), which is c(2), alters the value of a to a=c(2)—>2+2=4, a=4.\n",
    "#b(): This step calls the function c(a), which is c(4), and changes the value of a to 6 (i.e., a=c(4) --> 4+2, a=6).\n",
    "\n",
    "#a() In this step , the value of a, which is equal to 6, is printed.."
   ]
  },
  {
   "cell_type": "code",
   "execution_count": 34,
   "id": "211244be",
   "metadata": {},
   "outputs": [],
   "source": [
    "#QUESTION 2\n",
    "def file_length(filename):\n",
    "    try:\n",
    "        file_handle = open(filename)\n",
    "        file_contents = file_handle.read()\n",
    "        file_handle.close()\n",
    "        print(len(file_contents))\n",
    "    except:\n",
    "        print(\"File \"+str(filename)+\" not found\")\n"
   ]
  },
  {
   "cell_type": "code",
   "execution_count": 35,
   "id": "e93ffe30",
   "metadata": {},
   "outputs": [
    {
     "name": "stdout",
     "output_type": "stream",
     "text": [
      "122\n"
     ]
    }
   ],
   "source": [
    "file_length('midterm.txt')"
   ]
  },
  {
   "cell_type": "code",
   "execution_count": 36,
   "id": "f2f14f57",
   "metadata": {},
   "outputs": [
    {
     "name": "stdout",
     "output_type": "stream",
     "text": [
      "File idterm.txt not found\n"
     ]
    }
   ],
   "source": [
    "file_length('idterm.txt')"
   ]
  },
  {
   "cell_type": "code",
   "execution_count": 7,
   "id": "6affd25f",
   "metadata": {},
   "outputs": [],
   "source": [
    "#QUESTION 3\n",
    "class Marsupial:\n",
    "    l=[]    \n",
    "    def put_in_pouch(self,x):\n",
    "        self.l.append(x)\n",
    "    def pouch_contents(self):\n",
    "        return self.l     \n",
    "           "
   ]
  },
  {
   "cell_type": "code",
   "execution_count": 8,
   "id": "c41fe31d",
   "metadata": {},
   "outputs": [
    {
     "data": {
      "text/plain": [
       "['doll', 'firetruck', 'kitten']"
      ]
     },
     "execution_count": 8,
     "metadata": {},
     "output_type": "execute_result"
    }
   ],
   "source": [
    "m = Marsupial()\n",
    "m.put_in_pouch('doll')\n",
    "m.put_in_pouch('firetruck')\n",
    "m.put_in_pouch('kitten')\n",
    "m.pouch_contents()"
   ]
  },
  {
   "cell_type": "code",
   "execution_count": 9,
   "id": "265be15c",
   "metadata": {},
   "outputs": [],
   "source": [
    "#A\n",
    "class Kangaroo(Marsupial):\n",
    "    cx=0\n",
    "    cy=0\n",
    "    def __init__(self,x,y):\n",
    "        self.x=x\n",
    "        self.y=y\n",
    "    def put_in_pouch(self,x):\n",
    "        self.l.append(x)\n",
    "    def jump(self,dx,dy):\n",
    "        self.cx+=dx\n",
    "        self.cy+=dy\n",
    "    def __str__(self):\n",
    "        return \"I am a Kangaroo located at coordinates (\" + str(self.cx) + \",\" + str(self.cy) + \")\"\n",
    "        \n",
    "    "
   ]
  },
  {
   "cell_type": "code",
   "execution_count": 10,
   "id": "12542b36",
   "metadata": {},
   "outputs": [
    {
     "data": {
      "text/plain": [
       "['doll', 'firetruck', 'kitten', 'doll', 'firetruck', 'kitten']"
      ]
     },
     "execution_count": 10,
     "metadata": {},
     "output_type": "execute_result"
    }
   ],
   "source": [
    "#B\n",
    "k = Kangaroo(0,0)\n",
    "k.put_in_pouch('doll')\n",
    "k.put_in_pouch('firetruck')\n",
    "k.put_in_pouch('kitten')\n",
    "k.pouch_contents()"
   ]
  },
  {
   "cell_type": "code",
   "execution_count": 11,
   "id": "38ffd5bd",
   "metadata": {},
   "outputs": [
    {
     "name": "stdout",
     "output_type": "stream",
     "text": [
      "I am a Kangaroo located at coordinates (3,0)\n"
     ]
    }
   ],
   "source": [
    "#C\n",
    "k.jump(1,0)\n",
    "k.jump(1,0)\n",
    "k.jump(1,0)\n",
    "print(k)"
   ]
  },
  {
   "cell_type": "code",
   "execution_count": 12,
   "id": "b905c0b1",
   "metadata": {},
   "outputs": [],
   "source": [
    "#QUESTION 4\n",
    "def collatz(x):\n",
    "    if x==1:\n",
    "        return 1\n",
    "    else:\n",
    "        print(x)\n",
    "        if x%2==0:\n",
    "            return collatz(x//2)\n",
    "        else: \n",
    "            return collatz(3*x+1)"
   ]
  },
  {
   "cell_type": "code",
   "execution_count": 13,
   "id": "d2c109f9",
   "metadata": {},
   "outputs": [
    {
     "data": {
      "text/plain": [
       "1"
      ]
     },
     "execution_count": 13,
     "metadata": {},
     "output_type": "execute_result"
    }
   ],
   "source": [
    "collatz(1)"
   ]
  },
  {
   "cell_type": "code",
   "execution_count": 14,
   "id": "eb16fa51",
   "metadata": {},
   "outputs": [
    {
     "name": "stdout",
     "output_type": "stream",
     "text": [
      "10\n",
      "5\n",
      "16\n",
      "8\n",
      "4\n",
      "2\n"
     ]
    },
    {
     "data": {
      "text/plain": [
       "1"
      ]
     },
     "execution_count": 14,
     "metadata": {},
     "output_type": "execute_result"
    }
   ],
   "source": [
    "collatz(10)\n",
    "\n"
   ]
  },
  {
   "cell_type": "code",
   "execution_count": 16,
   "id": "cbd5e001",
   "metadata": {},
   "outputs": [
    {
     "name": "stdout",
     "output_type": "stream",
     "text": [
      "Binary  of 0 is\n",
      "0\n",
      "Binary  of 1 is\n",
      "1\n",
      "Binary  of 3 is\n",
      "11\n",
      "Binary  of 9 is\n",
      "1001\n"
     ]
    }
   ],
   "source": [
    "#QUESTION 5\n",
    "def binary(a):         \n",
    "    \n",
    "    print(f\"Binary  of {a} is\")\n",
    "    \n",
    "    if(a >= 0):                            \n",
    "        print(format(a ,\"b\"))          \n",
    "    \n",
    "    else:\n",
    "        return 'number provides is a negative number or 0'                 \n",
    "    \n",
    "\n",
    "binary(0)\n",
    "binary(1)\n",
    "binary(3)\n",
    "binary(9)"
   ]
  },
  {
   "cell_type": "code",
   "execution_count": 17,
   "id": "4b88bcad",
   "metadata": {},
   "outputs": [],
   "source": [
    "#QUESTION 6\n",
    "#from html.parser import HTMLParser\n",
    "store=[]\n",
    "class HeadingParser(HTMLParser):\n",
    "    global store\n",
    "    def handle_starttag(self, tag, attrs):\n",
    "        store.append(tag)\n",
    "    def handle_data(self, data):\n",
    "        store.append(data)        \n",
    "    def handle_endtag(self,tag):\n",
    "        if(tag==\"html\"):\n",
    "            for val in store:\n",
    "                for tagno in ('h1','h2','h3','h4','h5','h6'):\n",
    "                    if(val==tagno):\n",
    "                        ind=store.index(tagno)\n",
    "                        print(store[ind+1],end=\"\\n\\t\")\n",
    "       "
   ]
  },
  {
   "cell_type": "code",
   "execution_count": 20,
   "id": "9d770fb9",
   "metadata": {},
   "outputs": [
    {
     "name": "stdout",
     "output_type": "stream",
     "text": [
      "W3C Mission\n",
      "\tPrinciples\n",
      "\t"
     ]
    }
   ],
   "source": [
    "infile = open(\"C:/Users/devik/w3c.html\")\n",
    "content = infile.read()\n",
    "infile.close()\n",
    "hp = HeadingParser()\n",
    "hp.feed(content)"
   ]
  },
  {
   "cell_type": "code",
   "execution_count": 3,
   "id": "5a8cd597",
   "metadata": {},
   "outputs": [],
   "source": [
    "#QUESTION 7\n",
    "from urllib.request import urlopen\n",
    "from urllib.parse import urljoin\n",
    "from html.parser import HTMLParser\n",
    "\n",
    "class LinkParser(HTMLParser):\n",
    "    def init(self):\n",
    "        super().init()\n",
    "        self.links = []\n",
    "\n",
    "    def handle_starttag(self, tag, attrs):\n",
    "        if tag == 'a':\n",
    "            for attr in attrs:\n",
    "                if attr[0] == 'href':\n",
    "                    self.links.append(attr[1])\n",
    "\n",
    "def webdir(url, depth, indent):\n",
    "    if depth < 0:\n",
    "        return\n",
    "\n",
    "    print(' ' * indent + url)\n",
    "\n",
    "    try:\n",
    "        response = urlopen(url)\n",
    "    except:\n",
    "        return\n",
    "\n",
    "    parser = LinkParser()\n",
    "    parser.feed(response.read().decode())\n",
    "\n",
    "    for link in parser.links:\n",
    "        absolute_url = urljoin(url, link)\n",
    "        webdir(absolute_url, depth - 1, indent + 1)"
   ]
  },
  {
   "cell_type": "code",
   "execution_count": 4,
   "id": "3969aa62",
   "metadata": {},
   "outputs": [
    {
     "name": "stdout",
     "output_type": "stream",
     "text": [
      "http://reed.cs.depaul.edu/lperkovic/csc242/test2.html\n"
     ]
    }
   ],
   "source": [
    "webdir('http://reed.cs.depaul.edu/lperkovic/csc242/test2.html', 2, 0)\n"
   ]
  },
  {
   "cell_type": "code",
   "execution_count": 5,
   "id": "82f61162",
   "metadata": {},
   "outputs": [],
   "source": [
    "#QUESTION 8\n",
    "import sqlite3\n",
    "\n",
    "# connect to database\n",
    "conn = sqlite3.connect('weather.db')\n",
    "\n",
    "# create cursor object\n",
    "c = conn.cursor()\n",
    "\n",
    "# create table \n",
    "c.execute('''CREATE TABLE climate\n",
    "            (\n",
    "                City TEXT,\n",
    "                Country TEXT,\n",
    "                Season TEXT,\n",
    "                Temperature REAL,\n",
    "                Rainfall REAL\n",
    "             )''')\n",
    "\n",
    "# insert data into table \n",
    "weather_data = [('Mumbai', 'India', 'Winter', 24.8, 5.9),\n",
    "                ('Mumbai', 'India', 'Spring', 28.4, 16.2),\n",
    "                ('Mumbai', 'India', 'Summer', 27.9, 1549.4),\n",
    "                ('Mumbai', 'India', 'Fall', 27.6, 346.0),\n",
    "                ('London', 'United Kingdom', 'Winter', 4.2, 207.7),\n",
    "                ('London', 'United Kingdom', 'Spring', 8.3, 169.6),\n",
    "                ('London', 'United Kingdom', 'Summer', 15.7, 157.0),\n",
    "                ('London', 'United Kingdom', 'Fall', 10.4, 218.5),\n",
    "                ('Cairo', 'Egypt', 'Winter', 13.6, 16.5),\n",
    "                ('Cairo', 'Egypt', 'Spring', 20.7, 6.5),\n",
    "                ('Cairo', 'Egypt', 'Summer', 27.7, 0.1),\n",
    "                ('Cairo', 'Egypt', 'Fall', 22.2, 4.5)]\n",
    "c.executemany('INSERT INTO climate VALUES (?, ?, ?, ?, ?)', weather_data)\n",
    "\n",
    "# commit changes and close connection\n",
    "conn.commit()\n",
    "conn.close()"
   ]
  },
  {
   "cell_type": "code",
   "execution_count": 6,
   "id": "c3722966",
   "metadata": {},
   "outputs": [],
   "source": [
    "import sqlite3\n",
    "\n",
    "# connect to database\n",
    "conn = sqlite3.connect('weather.db')\n",
    "\n",
    "# create cursor object\n",
    "c = conn.cursor()"
   ]
  },
  {
   "cell_type": "code",
   "execution_count": 7,
   "id": "c217fbc0",
   "metadata": {},
   "outputs": [
    {
     "name": "stdout",
     "output_type": "stream",
     "text": [
      "[(24.8,), (28.4,), (27.9,), (27.6,), (4.2,), (8.3,), (15.7,), (10.4,), (13.6,), (20.7,), (27.7,), (22.2,)]\n"
     ]
    }
   ],
   "source": [
    "#A\n",
    "c.execute('SELECT Temperature FROM climate')\n",
    "temperature_data = c.fetchall()\n",
    "print(temperature_data)"
   ]
  },
  {
   "cell_type": "code",
   "execution_count": 8,
   "id": "58f3614e",
   "metadata": {},
   "outputs": [
    {
     "name": "stdout",
     "output_type": "stream",
     "text": [
      "[('Mumbai',), ('London',), ('Cairo',)]\n"
     ]
    }
   ],
   "source": [
    "#B\n",
    "c.execute('SELECT DISTINCT City FROM climate')\n",
    "cities = c.fetchall()\n",
    "print(cities)"
   ]
  },
  {
   "cell_type": "code",
   "execution_count": 9,
   "id": "19271f36",
   "metadata": {},
   "outputs": [
    {
     "name": "stdout",
     "output_type": "stream",
     "text": [
      "[('Mumbai', 'India', 'Winter', 24.8, 5.9), ('Mumbai', 'India', 'Spring', 28.4, 16.2), ('Mumbai', 'India', 'Summer', 27.9, 1549.4), ('Mumbai', 'India', 'Fall', 27.6, 346.0)]\n"
     ]
    }
   ],
   "source": [
    "#C\n",
    "c.execute(\"SELECT * FROM climate WHERE Country = 'India'\")\n",
    "india_records = c.fetchall()\n",
    "print(india_records)"
   ]
  },
  {
   "cell_type": "code",
   "execution_count": 10,
   "id": "07888f2f",
   "metadata": {},
   "outputs": [
    {
     "name": "stdout",
     "output_type": "stream",
     "text": [
      "[('Mumbai', 'India', 'Fall', 27.6, 346.0), ('London', 'United Kingdom', 'Fall', 10.4, 218.5), ('Cairo', 'Egypt', 'Fall', 22.2, 4.5)]\n"
     ]
    }
   ],
   "source": [
    "#D\n",
    "c.execute(\"SELECT * FROM climate WHERE Season = 'Fall'\")\n",
    "fall_records = c.fetchall()\n",
    "print(fall_records)"
   ]
  },
  {
   "cell_type": "code",
   "execution_count": 11,
   "id": "13b03e1e",
   "metadata": {},
   "outputs": [
    {
     "name": "stdout",
     "output_type": "stream",
     "text": [
      "[('London', 'United Kingdom', 'Fall'), ('London', 'United Kingdom', 'Winter'), ('Mumbai', 'India', 'Fall')]\n"
     ]
    }
   ],
   "source": [
    "#E\n",
    "c.execute(\"SELECT City, Country, Season FROM climate WHERE Rainfall BETWEEN 200 AND 400 GROUP BY City, Country, Season\")\n",
    "rainfall_records = c.fetchall()\n",
    "print(rainfall_records)"
   ]
  },
  {
   "cell_type": "code",
   "execution_count": 12,
   "id": "d4c6c2c3",
   "metadata": {},
   "outputs": [
    {
     "name": "stdout",
     "output_type": "stream",
     "text": [
      "[('Cairo', 'Egypt'), ('Mumbai', 'India')]\n"
     ]
    }
   ],
   "source": [
    "#F\n",
    "c.execute(\"SELECT City, Country FROM climate WHERE Season = 'Fall' GROUP BY City, Country HAVING AVG(Temperature) > 20 ORDER BY AVG(Temperature) ASC\")\n",
    "fall_temp_records = c.fetchall()\n",
    "print(fall_temp_records)"
   ]
  },
  {
   "cell_type": "code",
   "execution_count": 13,
   "id": "88172aac",
   "metadata": {},
   "outputs": [
    {
     "name": "stdout",
     "output_type": "stream",
     "text": [
      "27.6\n"
     ]
    }
   ],
   "source": [
    "#G\n",
    "c.execute(\"SELECT SUM(Rainfall) AS Total_Rainfall FROM climate WHERE City = 'Cairo'\")\n",
    "cairo_rainfall = c.fetchone()[0]\n",
    "print(cairo_rainfall)"
   ]
  },
  {
   "cell_type": "code",
   "execution_count": 14,
   "id": "f961ea35",
   "metadata": {},
   "outputs": [
    {
     "name": "stdout",
     "output_type": "stream",
     "text": [
      "[('Fall', 569.0), ('Spring', 192.29999999999998), ('Summer', 1706.5), ('Winter', 230.1)]\n"
     ]
    }
   ],
   "source": [
    "#H\n",
    "c.execute(\"SELECT Season, SUM(Rainfall) AS Total_Rainfall FROM climate GROUP BY Season\")\n",
    "season_rainfall = c.fetchall()\n",
    "print(season_rainfall)"
   ]
  },
  {
   "cell_type": "code",
   "execution_count": 24,
   "id": "dd739dfd",
   "metadata": {},
   "outputs": [],
   "source": [
    "#QUESTION 9\n",
    "words = ['The', 'quick', 'brown', 'fox', 'jumps', 'over', \n",
    "'the', 'lazy', 'dog']"
   ]
  },
  {
   "cell_type": "code",
   "execution_count": 25,
   "id": "82b57fa2",
   "metadata": {},
   "outputs": [
    {
     "name": "stdout",
     "output_type": "stream",
     "text": [
      "['THE', 'QUICK', 'BROWN', 'FOX', 'JUMPS', 'OVER', 'THE', 'LAZY', 'DOG']\n"
     ]
    }
   ],
   "source": [
    "#A\n",
    "new_words = [word.upper() for word in words]\n",
    "print(new_words)"
   ]
  },
  {
   "cell_type": "code",
   "execution_count": 26,
   "id": "28b29fd8",
   "metadata": {},
   "outputs": [
    {
     "name": "stdout",
     "output_type": "stream",
     "text": [
      "['the', 'quick', 'brown', 'fox', 'jumps', 'over', 'the', 'lazy', 'dog']\n"
     ]
    }
   ],
   "source": [
    "#B\n",
    "new_words = [word.lower() for word in words]\n",
    "print(new_words)\n"
   ]
  },
  {
   "cell_type": "code",
   "execution_count": 27,
   "id": "8419691c",
   "metadata": {},
   "outputs": [
    {
     "name": "stdout",
     "output_type": "stream",
     "text": [
      "[3, 5, 5, 3, 5, 4, 3, 4, 3]\n"
     ]
    }
   ],
   "source": [
    "#C\n",
    "word_lengths = [len(word) for word in words]\n",
    "print(word_lengths)"
   ]
  },
  {
   "cell_type": "code",
   "execution_count": 28,
   "id": "48f1de1f",
   "metadata": {},
   "outputs": [
    {
     "name": "stdout",
     "output_type": "stream",
     "text": [
      "[['THE', 'the', 3], ['QUICK', 'quick', 5], ['BROWN', 'brown', 5], ['FOX', 'fox', 3], ['JUMPS', 'jumps', 5], ['OVER', 'over', 4], ['THE', 'the', 3], ['LAZY', 'lazy', 4], ['DOG', 'dog', 3]]\n"
     ]
    }
   ],
   "source": [
    "#D\n",
    "new_words = [[word.upper(), word.lower(), len(word)] for word in words]\n",
    "print(new_words)"
   ]
  },
  {
   "cell_type": "code",
   "execution_count": 29,
   "id": "04b250e4",
   "metadata": {},
   "outputs": [
    {
     "name": "stdout",
     "output_type": "stream",
     "text": [
      "['quick', 'brown', 'jumps', 'over', 'lazy']\n"
     ]
    }
   ],
   "source": [
    "#E\n",
    "new_words = [word for word in words if len(word) >= 4]\n",
    "print(new_words)"
   ]
  },
  {
   "cell_type": "code",
   "execution_count": null,
   "id": "e2e2eda9",
   "metadata": {},
   "outputs": [],
   "source": []
  }
 ],
 "metadata": {
  "kernelspec": {
   "display_name": "Python 3 (ipykernel)",
   "language": "python",
   "name": "python3"
  },
  "language_info": {
   "codemirror_mode": {
    "name": "ipython",
    "version": 3
   },
   "file_extension": ".py",
   "mimetype": "text/x-python",
   "name": "python",
   "nbconvert_exporter": "python",
   "pygments_lexer": "ipython3",
   "version": "3.9.13"
  }
 },
 "nbformat": 4,
 "nbformat_minor": 5
}
